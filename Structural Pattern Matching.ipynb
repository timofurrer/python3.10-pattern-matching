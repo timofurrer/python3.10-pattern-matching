{
 "cells": [
  {
   "cell_type": "markdown",
   "id": "dea6770f",
   "metadata": {},
   "source": [
    "# Python 3.10 - Structural Pattern Matching 🎉"
   ]
  },
  {
   "cell_type": "markdown",
   "id": "cf78066c",
   "metadata": {},
   "source": [
    "**References**:\n",
    "* [What’s New In Python 3.10](https://docs.python.org/3/whatsnew/3.10.html)\n",
    "* [PEP 634 -- Structural Pattern Matching: Specification](https://www.python.org/dev/peps/pep-0634/)\n",
    "* [PEP 635 -- Structural Pattern Matching: Motivation and Rationale](https://www.python.org/dev/peps/pep-0635)\n",
    "* [PEP 636 -- Structural Pattern Matching: Tutorial](https://www.python.org/dev/peps/pep-0636/)"
   ]
  },
  {
   "cell_type": "markdown",
   "id": "64828146",
   "metadata": {},
   "source": [
    "## Motiviation\n",
    "\n",
    "Main reason: more elegant and readable code compared to `if ... elif ... else` chains with a lot of type and structure checking.\n"
   ]
  },
  {
   "cell_type": "markdown",
   "id": "6ed3df9d",
   "metadata": {},
   "source": [
    "## Basic Example"
   ]
  },
  {
   "cell_type": "code",
   "execution_count": 1,
   "id": "3ebdeff7",
   "metadata": {},
   "outputs": [],
   "source": [
    "endpoint = \"service.com\"\n",
    "endpoint = (\"service.com\", 8080)\n",
    "endpoint = (\"service.com\", 22, \"ssh\")"
   ]
  },
  {
   "cell_type": "code",
   "execution_count": 2,
   "id": "4b831f9c",
   "metadata": {},
   "outputs": [
    {
     "name": "stdout",
     "output_type": "stream",
     "text": [
      "service.com 22 ssh\n"
     ]
    }
   ],
   "source": [
    "if isinstance(endpoint, str):\n",
    "    host = endpoint\n",
    "    port = 80\n",
    "    mode = \"http\"\n",
    "elif isinstance(endpoint, tuple) and len(endpoint) == 2:\n",
    "    host, port = endpoint\n",
    "    mode = \"http\"\n",
    "elif isinstance(endpoint, tuple) and len(endpoint) == 3:\n",
    "    host, port, mode = endpoint\n",
    "    \n",
    "print(host, port, mode)"
   ]
  },
  {
   "cell_type": "code",
   "execution_count": 3,
   "id": "7760eb03",
   "metadata": {},
   "outputs": [
    {
     "name": "stdout",
     "output_type": "stream",
     "text": [
      "service.com 22 ssh\n"
     ]
    }
   ],
   "source": [
    "match endpoint:\n",
    "    case str(host):\n",
    "        port = 80\n",
    "        mode = \"http\"\n",
    "    case (str(host), int(port)):\n",
    "        mode = \"http\"\n",
    "    case str(host), int(port), str(mode):\n",
    "        pass\n",
    "        \n",
    "print(host, port, mode)"
   ]
  },
  {
   "cell_type": "markdown",
   "id": "7415ec37",
   "metadata": {},
   "source": [
    "## Literal Matching"
   ]
  },
  {
   "cell_type": "code",
   "execution_count": 4,
   "id": "d9092e7e",
   "metadata": {},
   "outputs": [
    {
     "name": "stdout",
     "output_type": "stream",
     "text": [
      "Got hello\n"
     ]
    }
   ],
   "source": [
    "text = \"hello\"\n",
    "\n",
    "match text:\n",
    "    case \"hello\":\n",
    "        print(\"Got hello\")\n",
    "    case \"world\":\n",
    "        print(\"Got world\")\n",
    "    case _:\n",
    "        print(\"unknown\")"
   ]
  },
  {
   "cell_type": "markdown",
   "id": "8f42ed0d",
   "metadata": {},
   "source": [
    "## Sequence Matching"
   ]
  },
  {
   "cell_type": "code",
   "execution_count": 5,
   "id": "616b37d8",
   "metadata": {},
   "outputs": [
    {
     "name": "stdout",
     "output_type": "stream",
     "text": [
      "Going up\n",
      "Fighting a huge dragon\n",
      "Good bye\n"
     ]
    }
   ],
   "source": [
    "commands = [\n",
    "    \"go up\",\n",
    "    \"fight with dragon\",\n",
    "    \"quit\",\n",
    "]\n",
    "\n",
    "for command in commands:\n",
    "    match command.split():\n",
    "        case [\"go\", direction]:\n",
    "            print(f\"Going {direction}\")\n",
    "        case [\"fight\", \"with\", monster]:\n",
    "            print(f\"Fighting a huge {monster}\")\n",
    "        case [\"quit\"]:\n",
    "            print(\"Good bye\")"
   ]
  },
  {
   "cell_type": "markdown",
   "id": "bfbd18c1",
   "metadata": {},
   "source": [
    "## Matching multiple values"
   ]
  },
  {
   "cell_type": "code",
   "execution_count": 6,
   "id": "a7c1733c",
   "metadata": {},
   "outputs": [
    {
     "name": "stdout",
     "output_type": "stream",
     "text": [
      "Dropping objects: ['sword', 'shield', 'food']\n"
     ]
    }
   ],
   "source": [
    "command = [\"drop\", \"sword\", \"shield\", \"food\"]\n",
    "\n",
    "match command:\n",
    "    case [\"drop\", *objects]:\n",
    "        print(f\"Dropping objects: {objects}\")"
   ]
  },
  {
   "cell_type": "markdown",
   "id": "5f839592",
   "metadata": {},
   "source": [
    "## OR patterns"
   ]
  },
  {
   "cell_type": "code",
   "execution_count": 7,
   "id": "fc3bb6d9",
   "metadata": {},
   "outputs": [
    {
     "name": "stdout",
     "output_type": "stream",
     "text": [
      "Going up\n",
      "Going up\n"
     ]
    }
   ],
   "source": [
    "commands = [\n",
    "    \"up\",\n",
    "    \"go up\",\n",
    "]\n",
    "\n",
    "for command in commands:\n",
    "    \n",
    "    match command.split():\n",
    "        case [\"up\"] | [\"go\", \"up\"]:\n",
    "            print(\"Going up\")"
   ]
  },
  {
   "cell_type": "markdown",
   "id": "161e2cb6",
   "metadata": {},
   "source": [
    "## Matching sub-patterns"
   ]
  },
  {
   "cell_type": "code",
   "execution_count": 8,
   "id": "8a033362",
   "metadata": {},
   "outputs": [
    {
     "name": "stdout",
     "output_type": "stream",
     "text": [
      "Going somewhere, but where?\n",
      "Going somewhere, but where?\n",
      "Going somewhere, but where?\n",
      "Going somewhere, but where?\n"
     ]
    }
   ],
   "source": [
    "commands = [\n",
    "    \"go up\",\n",
    "    \"go down\",\n",
    "    \"go left\",\n",
    "    \"go right\",\n",
    "]\n",
    "\n",
    "for command in commands:\n",
    "    \n",
    "    match command.split():\n",
    "        case [\"go\", (\"up\" | \"down\" | \"left\" | \"right\")]:\n",
    "            print(\"Going somewhere, but where?\")"
   ]
  },
  {
   "cell_type": "markdown",
   "id": "5e09bfb9",
   "metadata": {},
   "source": [
    "## Capturing"
   ]
  },
  {
   "cell_type": "code",
   "execution_count": 9,
   "id": "2e20eb3a",
   "metadata": {},
   "outputs": [
    {
     "name": "stdout",
     "output_type": "stream",
     "text": [
      "Going up!\n",
      "Going down!\n",
      "Going left!\n",
      "Going right!\n"
     ]
    }
   ],
   "source": [
    "commands = [\n",
    "    \"go up\",\n",
    "    \"go down\",\n",
    "    \"go left\",\n",
    "    \"go right\",\n",
    "]\n",
    "\n",
    "for command in commands:\n",
    "    \n",
    "    match command.split():\n",
    "        case [\"go\", (\"up\" | \"down\" | \"left\" | \"right\") as direction]:\n",
    "            print(f\"Going {direction}!\")"
   ]
  },
  {
   "cell_type": "markdown",
   "id": "b85a91b0",
   "metadata": {},
   "source": [
    "## Conditionals"
   ]
  },
  {
   "cell_type": "code",
   "execution_count": 10,
   "id": "5715ece3",
   "metadata": {},
   "outputs": [
    {
     "name": "stdout",
     "output_type": "stream",
     "text": [
      "Going up!\n",
      "Going down!\n",
      "Going left!\n",
      "Going right!\n",
      "'elsewhere' is no place you want go, trust me!\n"
     ]
    }
   ],
   "source": [
    "commands = [\n",
    "    \"go up\",\n",
    "    \"go down\",\n",
    "    \"go left\",\n",
    "    \"go right\",\n",
    "    \"go elsewhere\",\n",
    "]\n",
    "\n",
    "DIRECTIONS = [\"up\", \"down\", \"left\", \"right\"]\n",
    "\n",
    "for command in commands:\n",
    "    \n",
    "    match command.split():\n",
    "        case [\"go\", direction] if direction in DIRECTIONS:\n",
    "            print(f\"Going {direction}!\")\n",
    "        case [\"go\", the_wrong_way]:\n",
    "            print(f\"'{the_wrong_way}' is no place you want go, trust me!\")"
   ]
  },
  {
   "cell_type": "markdown",
   "id": "1e99def4",
   "metadata": {},
   "source": [
    "## Matching Types"
   ]
  },
  {
   "cell_type": "code",
   "execution_count": 11,
   "id": "08345b4d",
   "metadata": {},
   "outputs": [
    {
     "name": "stdout",
     "output_type": "stream",
     "text": [
      "Clicked at 5|10\n"
     ]
    }
   ],
   "source": [
    "from dataclasses import dataclass\n",
    "from enum import Enum, auto\n",
    "\n",
    "class Button(Enum):\n",
    "    LEFT = auto()\n",
    "    RIGHT = auto()\n",
    "    MOUSE_WHEEL = auto()\n",
    "\n",
    "\n",
    "@dataclass\n",
    "class Click:\n",
    "    position: tuple[int, int]\n",
    "    button: Button\n",
    "        \n",
    "\n",
    "@dataclass\n",
    "class KeyPress:\n",
    "    key: str\n",
    "\n",
    "\n",
    "def handle_click_event_at(x, y): print(f\"Clicked at {x}|{y}\")\n",
    "def open_context_menu_at(x, y): print(f\"Context menu at {x}|{y}\")\n",
    "def handle_keypress(key): print(f\"Type {key}\")\n",
    "\n",
    "        \n",
    "# this would have been triggered by a user\n",
    "event = Click(position=(5, 10), button=Button.LEFT)\n",
    "# event = Click(position=(5, 10), button=Button.RIGHT)\n",
    "# event = KeyPress(\"a\")\n",
    "\n",
    "match event:\n",
    "    case Click(position=(x, y), button=Button.LEFT):\n",
    "        handle_click_event_at(x, y)\n",
    "    case Click(position=(x, y), button=Button.RIGHT):\n",
    "        open_context_menu_at(x, y)\n",
    "    case KeyPress(key=k):\n",
    "        handle_keypress(k)"
   ]
  },
  {
   "cell_type": "markdown",
   "id": "17120c1c",
   "metadata": {},
   "source": [
    "## Matching Positional Attributes"
   ]
  },
  {
   "cell_type": "code",
   "execution_count": 12,
   "id": "12375ab3",
   "metadata": {},
   "outputs": [
    {
     "name": "stdout",
     "output_type": "stream",
     "text": [
      "Clicked Button.RIGHT at 5|10\n"
     ]
    }
   ],
   "source": [
    "from dataclasses import dataclass\n",
    "from enum import Enum, auto\n",
    "\n",
    "class Button(Enum):\n",
    "    LEFT = auto()\n",
    "    RIGHT = auto()\n",
    "    MOUSE_WHEEL = auto()\n",
    "\n",
    "\n",
    "@dataclass\n",
    "class Click:\n",
    "    position: tuple[int, int]\n",
    "    button: Button\n",
    "        \n",
    "\n",
    "event = Click(position=(5, 10), button=Button.RIGHT)\n",
    "\n",
    "match event:\n",
    "    case Click((x, y), button):\n",
    "        print(f\"Clicked {button} at {x}|{y}\")"
   ]
  },
  {
   "cell_type": "code",
   "execution_count": 13,
   "id": "02353e53",
   "metadata": {},
   "outputs": [
    {
     "ename": "TypeError",
     "evalue": "Click() accepts 0 positional sub-patterns (2 given)",
     "output_type": "error",
     "traceback": [
      "\u001b[0;31m---------------------------------------------------------------------------\u001b[0m",
      "\u001b[0;31mTypeError\u001b[0m                                 Traceback (most recent call last)",
      "\u001b[0;32m/var/folders/79/sd6zwpx91d7fj5440b3wyymc0000gn/T/ipykernel_32487/2675229068.py\u001b[0m in \u001b[0;36m<module>\u001b[0;34m\u001b[0m\n\u001b[1;32m     17\u001b[0m \u001b[0;34m\u001b[0m\u001b[0m\n\u001b[1;32m     18\u001b[0m \u001b[0mmatch\u001b[0m \u001b[0mevent\u001b[0m\u001b[0;34m:\u001b[0m\u001b[0;34m\u001b[0m\u001b[0;34m\u001b[0m\u001b[0m\n\u001b[0;32m---> 19\u001b[0;31m     \u001b[0mcase\u001b[0m \u001b[0mClick\u001b[0m\u001b[0;34m(\u001b[0m\u001b[0;34m(\u001b[0m\u001b[0mx\u001b[0m\u001b[0;34m,\u001b[0m \u001b[0my\u001b[0m\u001b[0;34m)\u001b[0m\u001b[0;34m,\u001b[0m \u001b[0mbutton\u001b[0m\u001b[0;34m)\u001b[0m\u001b[0;34m:\u001b[0m\u001b[0;34m\u001b[0m\u001b[0;34m\u001b[0m\u001b[0m\n\u001b[0m\u001b[1;32m     20\u001b[0m         \u001b[0mprint\u001b[0m\u001b[0;34m(\u001b[0m\u001b[0;34mf\"Clicked {button} at {x}|{y}\"\u001b[0m\u001b[0;34m)\u001b[0m\u001b[0;34m\u001b[0m\u001b[0;34m\u001b[0m\u001b[0m\n",
      "\u001b[0;31mTypeError\u001b[0m: Click() accepts 0 positional sub-patterns (2 given)"
     ]
    }
   ],
   "source": [
    "from dataclasses import dataclass\n",
    "from enum import Enum, auto\n",
    "\n",
    "class Button(Enum):\n",
    "    LEFT = auto()\n",
    "    RIGHT = auto()\n",
    "    MOUSE_WHEEL = auto()\n",
    "\n",
    "\n",
    "class Click:\n",
    "    def __init__(self, position: tuple[str, str], button: Button) -> None:\n",
    "        self.position = position\n",
    "        self.button = button\n",
    "        \n",
    "\n",
    "event = Click(position=(5, 10), button=Button.RIGHT)\n",
    "\n",
    "match event:\n",
    "    case Click((x, y), button):\n",
    "        print(f\"Clicked {button} at {x}|{y}\")"
   ]
  },
  {
   "cell_type": "code",
   "execution_count": 14,
   "id": "37f9184c",
   "metadata": {},
   "outputs": [
    {
     "name": "stdout",
     "output_type": "stream",
     "text": [
      "Clicked Button.RIGHT at 5|10\n"
     ]
    }
   ],
   "source": [
    "from dataclasses import dataclass\n",
    "from enum import Enum, auto\n",
    "\n",
    "class Button(Enum):\n",
    "    LEFT = auto()\n",
    "    RIGHT = auto()\n",
    "    MOUSE_WHEEL = auto()\n",
    "\n",
    "    \n",
    "class Click:\n",
    "    __match_args__ = (\"position\", \"button\")\n",
    "    \n",
    "    def __init__(self, position: tuple[str, str], button: Button) -> None:\n",
    "        self.position = position\n",
    "        self.button = button\n",
    "        \n",
    "\n",
    "event = Click(position=(5, 10), button=Button.RIGHT)\n",
    "\n",
    "match event:\n",
    "    case Click((x, y), button):\n",
    "        print(f\"Clicked {button} at {x}|{y}\")"
   ]
  },
  {
   "cell_type": "markdown",
   "id": "cfe0f4e0",
   "metadata": {},
   "source": [
    "## Matching Dicts"
   ]
  },
  {
   "cell_type": "code",
   "execution_count": 15,
   "id": "89094377",
   "metadata": {},
   "outputs": [
    {
     "name": "stdout",
     "output_type": "stream",
     "text": [
      "Signing in timo with password 1234\n",
      "Please provide valid username and password to sign in\n",
      "Signing out current user\n"
     ]
    }
   ],
   "source": [
    "requests = [\n",
    "    {\n",
    "        \"action\": \"sign-in\",\n",
    "        \"username\": \"timo\",\n",
    "        \"password\": \"1234\",\n",
    "    },\n",
    "    {\n",
    "        \"action\": \"sign-in\",\n",
    "        \"username\": \"timo\",\n",
    "        \"password\": \"wrong\",\n",
    "    },\n",
    "    {\n",
    "        \"action\": \"sign-out\"\n",
    "    },\n",
    "]\n",
    "\n",
    "def check_user(username, password):\n",
    "    return username == \"timo\" and password == \"1234\"\n",
    "\n",
    "\n",
    "for request in requests:\n",
    "    \n",
    "    match request:\n",
    "        case {\"action\": \"sign-in\", \"username\": str(u), \"password\": str(p)} if check_user(u, p):\n",
    "            print(f\"Signing in {u} with password {p}\")\n",
    "        case {\"action\": \"sign-in\", **rest}:\n",
    "            print(f\"Please provide valid username and password to sign in\")\n",
    "        case {\"action\": \"sign-out\"}:\n",
    "            print(f\"Signing out current user\")"
   ]
  }
 ],
 "metadata": {
  "kernelspec": {
   "display_name": "Python 3 (ipykernel)",
   "language": "python",
   "name": "python3"
  },
  "language_info": {
   "codemirror_mode": {
    "name": "ipython",
    "version": 3
   },
   "file_extension": ".py",
   "mimetype": "text/x-python",
   "name": "python",
   "nbconvert_exporter": "python",
   "pygments_lexer": "ipython3",
   "version": "3.10.0"
  }
 },
 "nbformat": 4,
 "nbformat_minor": 5
}
